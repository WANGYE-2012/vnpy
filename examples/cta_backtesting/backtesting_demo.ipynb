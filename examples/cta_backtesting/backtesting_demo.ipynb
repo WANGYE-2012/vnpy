{
 "cells": [
  {
   "cell_type": "code",
   "execution_count": 1,
   "metadata": {},
   "outputs": [
    {
     "ename": "ModuleNotFoundError",
     "evalue": "No module named 'vnpy'",
     "output_type": "error",
     "traceback": [
      "\u001b[0;31m---------------------------------------------------------------------------\u001b[0m",
      "\u001b[0;31mModuleNotFoundError\u001b[0m                       Traceback (most recent call last)",
      "\u001b[0;32m<ipython-input-1-e97e2cdfaffb>\u001b[0m in \u001b[0;36m<module>\u001b[0;34m\u001b[0m\n\u001b[1;32m      1\u001b[0m \u001b[0;31m#%%\u001b[0m\u001b[0;34m\u001b[0m\u001b[0;34m\u001b[0m\u001b[0;34m\u001b[0m\u001b[0m\n\u001b[0;32m----> 2\u001b[0;31m \u001b[0;32mfrom\u001b[0m \u001b[0mvnpy\u001b[0m\u001b[0;34m.\u001b[0m\u001b[0mapp\u001b[0m\u001b[0;34m.\u001b[0m\u001b[0mcta_strategy\u001b[0m\u001b[0;34m.\u001b[0m\u001b[0mbacktesting\u001b[0m \u001b[0;32mimport\u001b[0m \u001b[0mBacktestingEngine\u001b[0m\u001b[0;34m,\u001b[0m \u001b[0mOptimizationSetting\u001b[0m\u001b[0;34m\u001b[0m\u001b[0;34m\u001b[0m\u001b[0m\n\u001b[0m\u001b[1;32m      3\u001b[0m from vnpy.app.cta_strategy.strategies.atr_rsi_strategy import (\n\u001b[1;32m      4\u001b[0m     \u001b[0mAtrRsiStrategy\u001b[0m\u001b[0;34m,\u001b[0m\u001b[0;34m\u001b[0m\u001b[0;34m\u001b[0m\u001b[0m\n\u001b[1;32m      5\u001b[0m )\n",
      "\u001b[0;31mModuleNotFoundError\u001b[0m: No module named 'vnpy'"
     ]
    }
   ],
   "source": [
    "#%%\n",
    "from vnpy.app.cta_strategy.backtesting import BacktestingEngine, OptimizationSetting\n",
    "from vnpy.app.cta_strategy.strategies.atr_rsi_strategy import (\n",
    "    AtrRsiStrategy,\n",
    ")\n",
    "from vnpy.app.cta_strategy.base import BacktestingMode\n",
    "from datetime import datetime"
   ]
  },
  {
   "cell_type": "code",
   "execution_count": 2,
   "metadata": {},
   "outputs": [],
   "source": [
    "#%%\n",
    "engine = BacktestingEngine()\n",
    "engine.set_parameters(\n",
    "    mode=BacktestingMode.TICK,\n",
    "    vt_symbol=\"IF88.CFFEX\",\n",
    "    interval=\"1m\",\n",
    "    start=datetime(2019, 1, 1),\n",
    "    end=datetime(2019, 4, 30),\n",
    "    rate=0.3/10000,\n",
    "    slippage=0.2,\n",
    "    size=300,\n",
    "    pricetick=0.2,\n",
    "    capital=1_000_000,\n",
    ")\n",
    "engine.add_strategy(AtrRsiStrategy, {})"
   ]
  },
  {
   "cell_type": "code",
   "execution_count": 3,
   "metadata": {
    "scrolled": false
   },
   "outputs": [
    {
     "name": "stdout",
     "output_type": "stream",
     "text": [
      "2020-03-22 07:33:25.244295\t开始加载历史数据\n",
      "2020-03-22 07:33:25.247654\t加载进度：## [25%]\n",
      "2020-03-22 07:33:25.249567\t加载进度：##### [50%]\n",
      "2020-03-22 07:33:25.251495\t加载进度：####### [76%]\n",
      "2020-03-22 07:33:25.253164\t加载进度：########## [100%]\n",
      "2020-03-22 07:33:25.253279\t历史数据加载完成，数据量：0\n",
      "2020-03-22 07:33:25.253398\t策略初始化完成\n",
      "2020-03-22 07:33:25.253424\t开始回放历史数据\n",
      "2020-03-22 07:33:25.253438\t历史数据回放结束\n",
      "2020-03-22 07:33:25.253496\t开始计算逐日盯市盈亏\n",
      "2020-03-22 07:33:25.253516\t成交记录为空，无法计算\n",
      "2020-03-22 07:33:25.253568\t开始计算策略统计指标\n",
      "2020-03-22 07:33:25.253587\t------------------------------\n",
      "2020-03-22 07:33:25.253599\t首个交易日：\t\n",
      "2020-03-22 07:33:25.253612\t最后交易日：\t\n",
      "2020-03-22 07:33:25.253626\t总交易日：\t0\n",
      "2020-03-22 07:33:25.253637\t盈利交易日：\t0\n",
      "2020-03-22 07:33:25.253661\t亏损交易日：\t0\n",
      "2020-03-22 07:33:25.253681\t起始资金：\t1,000,000.00\n",
      "2020-03-22 07:33:25.253694\t结束资金：\t0.00\n",
      "2020-03-22 07:33:25.253718\t总收益率：\t0.00%\n",
      "2020-03-22 07:33:25.253735\t年化收益：\t0.00%\n",
      "2020-03-22 07:33:25.253753\t最大回撤: \t0.00\n",
      "2020-03-22 07:33:25.253770\t百分比最大回撤: 0.00%\n",
      "2020-03-22 07:33:25.253786\t最长回撤天数: \t0\n",
      "2020-03-22 07:33:25.253802\t总盈亏：\t0.00\n",
      "2020-03-22 07:33:25.253818\t总手续费：\t0.00\n",
      "2020-03-22 07:33:25.253834\t总滑点：\t0.00\n",
      "2020-03-22 07:33:25.253851\t总成交金额：\t0.00\n",
      "2020-03-22 07:33:25.253867\t总成交笔数：\t0\n",
      "2020-03-22 07:33:25.254005\t日均盈亏：\t0.00\n",
      "2020-03-22 07:33:25.254032\t日均手续费：\t0.00\n",
      "2020-03-22 07:33:25.254048\t日均滑点：\t0.00\n",
      "2020-03-22 07:33:25.254063\t日均成交金额：\t0.00\n",
      "2020-03-22 07:33:25.254075\t日均成交笔数：\t0\n",
      "2020-03-22 07:33:25.254087\t日均收益率：\t0.00%\n",
      "2020-03-22 07:33:25.254099\t收益标准差：\t0.00%\n",
      "2020-03-22 07:33:25.254151\tSharpe Ratio：\t0.00\n",
      "2020-03-22 07:33:25.254193\t收益回撤比：\t0.00\n",
      "2020-03-22 07:33:25.254310\t策略统计指标计算完成\n"
     ]
    }
   ],
   "source": [
    "#%%\n",
    "engine.load_data()\n",
    "engine.run_backtesting()\n",
    "df = engine.calculate_result()\n",
    "engine.calculate_statistics()\n",
    "engine.show_chart()"
   ]
  },
  {
   "cell_type": "code",
   "execution_count": null,
   "metadata": {
    "scrolled": true
   },
   "outputs": [],
   "source": [
    "setting = OptimizationSetting()\n",
    "setting.set_target(\"sharpe_ratio\")\n",
    "setting.add_parameter(\"atr_length\", 3, 39, 1)\n",
    "setting.add_parameter(\"atr_ma_length\", 10, 30, 1)\n",
    "\n",
    "engine.run_ga_optimization(setting)"
   ]
  }
 ],
 "metadata": {
  "kernelspec": {
   "display_name": "Python 3",
   "language": "python",
   "name": "python3"
  },
  "language_info": {
   "codemirror_mode": {
    "name": "ipython",
    "version": 3
   },
   "file_extension": ".py",
   "mimetype": "text/x-python",
   "name": "python",
   "nbconvert_exporter": "python",
   "pygments_lexer": "ipython3",
   "version": "3.7.6"
  }
 },
 "nbformat": 4,
 "nbformat_minor": 2
}
